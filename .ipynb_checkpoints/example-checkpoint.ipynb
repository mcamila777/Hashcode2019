{
 "cells": [
  {
   "cell_type": "code",
   "execution_count": 31,
   "metadata": {},
   "outputs": [],
   "source": [
    "import numpy as np\n",
    "\n",
    "f = open(\"a_example.in\", \"r\")\n",
    "header = f.read(7)\n",
    "#read data\n",
    "data = np.loadtxt(\"a_example.in\",dtype = str ,delimiter=\"\\n\", skiprows=1)\n",
    "rclh = header.split(' ') \n"
   ]
  },
  {
   "cell_type": "code",
   "execution_count": 32,
   "metadata": {},
   "outputs": [],
   "source": []
  },
  {
   "cell_type": "code",
   "execution_count": 36,
   "metadata": {},
   "outputs": [
    {
     "name": "stdout",
     "output_type": "stream",
     "text": [
      "['3', '5', '1', '6']\n",
      "[['T' 'T' 'T' 'T' 'T']\n",
      " ['T' 'M' 'M' 'M' 'T']\n",
      " ['T' 'T' 'T' 'T' 'T']]\n"
     ]
    }
   ],
   "source": [
    "data_array =  np.empty([int(rclh[0]), int(rclh[1])] ,dtype= str)\n",
    "\n",
    "for row in range(int(rclh[0])):\n",
    "    data_array[row, :] = [x for x in data[row]]\n",
    "\n",
    "print(rclh)\n",
    "print (data_array)\n",
    "    "
   ]
  },
  {
   "cell_type": "code",
   "execution_count": 42,
   "metadata": {},
   "outputs": [
    {
     "data": {
      "text/plain": [
       "'M'"
      ]
     },
     "execution_count": 42,
     "metadata": {},
     "output_type": "execute_result"
    }
   ],
   "source": [
    "data_array[1,3]"
   ]
  },
  {
   "cell_type": "code",
   "execution_count": null,
   "metadata": {},
   "outputs": [],
   "source": []
  }
 ],
 "metadata": {
  "kernelspec": {
   "display_name": "Python 3",
   "language": "python",
   "name": "python3"
  },
  "language_info": {
   "codemirror_mode": {
    "name": "ipython",
    "version": 3
   },
   "file_extension": ".py",
   "mimetype": "text/x-python",
   "name": "python",
   "nbconvert_exporter": "python",
   "pygments_lexer": "ipython3",
   "version": "3.5.2"
  }
 },
 "nbformat": 4,
 "nbformat_minor": 2
}
